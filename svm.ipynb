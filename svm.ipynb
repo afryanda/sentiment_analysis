{
 "cells": [
  {
   "cell_type": "markdown",
   "metadata": {
    "id": "XykpgHoJnnw4"
   },
   "source": [
    "# NLP : Metode SVM\n",
    "---\n",
    "Yogi Afrizah (G1A017012)\n",
    "\n",
    "Deri Afrianda (G1A017021)\n",
    "\n"
   ]
  },
  {
   "cell_type": "code",
   "execution_count": 7,
   "metadata": {
    "executionInfo": {
     "elapsed": 30664,
     "status": "ok",
     "timestamp": 1610100453622,
     "user": {
      "displayName": "Deri Afrianda",
      "photoUrl": "https://lh3.googleusercontent.com/a-/AOh14GgjKcbvwp5ZtrxfUHWPWheflKzS5OFifqEZnFQiCg=s64",
      "userId": "16530533802857954710"
     },
     "user_tz": -420
    },
    "id": "0Ih1SB_2ou4j"
   },
   "outputs": [],
   "source": [
    "import pandas as pd\n",
    "import re\n",
    "import nltk\n",
    "\n",
    "from nltk.tokenize import word_tokenize\n",
    "from nltk.corpus import stopwords\n",
    "from nltk.stem import PorterStemmer\n",
    "from nltk.stem import WordNetLemmatizer\n",
    "\n",
    "from sklearn.feature_extraction.text import CountVectorizer\n",
    "from sklearn.model_selection import train_test_split\n",
    "from sklearn.svm import LinearSVC\n",
    "from sklearn.metrics import accuracy_score\n",
    "from sklearn.metrics import confusion_matrix\n",
    "from sklearn.metrics import classification_report"
   ]
  },
  {
   "cell_type": "markdown",
   "metadata": {
    "id": "vm7UMJ6Gnzaa"
   },
   "source": [
    "## Dataset"
   ]
  },
  {
   "cell_type": "code",
   "execution_count": 3,
   "metadata": {
    "colab": {
     "base_uri": "https://localhost:8080/"
    },
    "executionInfo": {
     "elapsed": 36370,
     "status": "ok",
     "timestamp": 1610100450523,
     "user": {
      "displayName": "Deri Afrianda",
      "photoUrl": "https://lh3.googleusercontent.com/a-/AOh14GgjKcbvwp5ZtrxfUHWPWheflKzS5OFifqEZnFQiCg=s64",
      "userId": "16530533802857954710"
     },
     "user_tz": -420
    },
    "id": "uuHOgShWom8g",
    "outputId": "2663c02d-a204-4653-c38e-3550ea053e65"
   },
   "outputs": [
    {
     "name": "stdout",
     "output_type": "stream",
     "text": [
      "Mounted at /content/drive\n"
     ]
    }
   ],
   "source": [
    "from google.colab import drive\n",
    "drive.mount('/content/drive')"
   ]
  },
  {
   "cell_type": "code",
   "execution_count": 4,
   "metadata": {
    "colab": {
     "base_uri": "https://localhost:8080/",
     "height": 206
    },
    "executionInfo": {
     "elapsed": 39451,
     "status": "ok",
     "timestamp": 1610100453616,
     "user": {
      "displayName": "Deri Afrianda",
      "photoUrl": "https://lh3.googleusercontent.com/a-/AOh14GgjKcbvwp5ZtrxfUHWPWheflKzS5OFifqEZnFQiCg=s64",
      "userId": "16530533802857954710"
     },
     "user_tz": -420
    },
    "id": "H_BMdGXuorKI",
    "outputId": "4755a2b7-2328-4326-8191-96d10f4c2a53"
   },
   "outputs": [
    {
     "data": {
      "text/html": [
       "<div>\n",
       "<style scoped>\n",
       "    .dataframe tbody tr th:only-of-type {\n",
       "        vertical-align: middle;\n",
       "    }\n",
       "\n",
       "    .dataframe tbody tr th {\n",
       "        vertical-align: top;\n",
       "    }\n",
       "\n",
       "    .dataframe thead th {\n",
       "        text-align: right;\n",
       "    }\n",
       "</style>\n",
       "<table border=\"1\" class=\"dataframe\">\n",
       "  <thead>\n",
       "    <tr style=\"text-align: right;\">\n",
       "      <th></th>\n",
       "      <th>Product Name</th>\n",
       "      <th>Brand Name</th>\n",
       "      <th>Price</th>\n",
       "      <th>Rating</th>\n",
       "      <th>Reviews</th>\n",
       "      <th>Review Votes</th>\n",
       "    </tr>\n",
       "  </thead>\n",
       "  <tbody>\n",
       "    <tr>\n",
       "      <th>0</th>\n",
       "      <td>\"CLEAR CLEAN ESN\" Sprint EPIC 4G Galaxy SPH-D7...</td>\n",
       "      <td>Samsung</td>\n",
       "      <td>199.99</td>\n",
       "      <td>5</td>\n",
       "      <td>I feel so LUCKY to have found this used (phone...</td>\n",
       "      <td>1.0</td>\n",
       "    </tr>\n",
       "    <tr>\n",
       "      <th>1</th>\n",
       "      <td>\"CLEAR CLEAN ESN\" Sprint EPIC 4G Galaxy SPH-D7...</td>\n",
       "      <td>Samsung</td>\n",
       "      <td>199.99</td>\n",
       "      <td>4</td>\n",
       "      <td>nice phone, nice up grade from my pantach revu...</td>\n",
       "      <td>0.0</td>\n",
       "    </tr>\n",
       "    <tr>\n",
       "      <th>2</th>\n",
       "      <td>\"CLEAR CLEAN ESN\" Sprint EPIC 4G Galaxy SPH-D7...</td>\n",
       "      <td>Samsung</td>\n",
       "      <td>199.99</td>\n",
       "      <td>5</td>\n",
       "      <td>Very pleased</td>\n",
       "      <td>0.0</td>\n",
       "    </tr>\n",
       "    <tr>\n",
       "      <th>3</th>\n",
       "      <td>\"CLEAR CLEAN ESN\" Sprint EPIC 4G Galaxy SPH-D7...</td>\n",
       "      <td>Samsung</td>\n",
       "      <td>199.99</td>\n",
       "      <td>4</td>\n",
       "      <td>It works good but it goes slow sometimes but i...</td>\n",
       "      <td>0.0</td>\n",
       "    </tr>\n",
       "    <tr>\n",
       "      <th>4</th>\n",
       "      <td>\"CLEAR CLEAN ESN\" Sprint EPIC 4G Galaxy SPH-D7...</td>\n",
       "      <td>Samsung</td>\n",
       "      <td>199.99</td>\n",
       "      <td>4</td>\n",
       "      <td>Great phone to replace my lost phone. The only...</td>\n",
       "      <td>0.0</td>\n",
       "    </tr>\n",
       "  </tbody>\n",
       "</table>\n",
       "</div>"
      ],
      "text/plain": [
       "                                        Product Name  ... Review Votes\n",
       "0  \"CLEAR CLEAN ESN\" Sprint EPIC 4G Galaxy SPH-D7...  ...          1.0\n",
       "1  \"CLEAR CLEAN ESN\" Sprint EPIC 4G Galaxy SPH-D7...  ...          0.0\n",
       "2  \"CLEAR CLEAN ESN\" Sprint EPIC 4G Galaxy SPH-D7...  ...          0.0\n",
       "3  \"CLEAR CLEAN ESN\" Sprint EPIC 4G Galaxy SPH-D7...  ...          0.0\n",
       "4  \"CLEAR CLEAN ESN\" Sprint EPIC 4G Galaxy SPH-D7...  ...          0.0\n",
       "\n",
       "[5 rows x 6 columns]"
      ]
     },
     "execution_count": 4,
     "metadata": {
      "tags": []
     },
     "output_type": "execute_result"
    }
   ],
   "source": [
    "dataset = 'drive/MyDrive/Colab Notebooks/Amazon_Unlocked_Mobile.csv'\n",
    "data = pd.read_csv(dataset)\n",
    "data.head()"
   ]
  },
  {
   "cell_type": "code",
   "execution_count": 5,
   "metadata": {
    "executionInfo": {
     "elapsed": 39448,
     "status": "ok",
     "timestamp": 1610100453618,
     "user": {
      "displayName": "Deri Afrianda",
      "photoUrl": "https://lh3.googleusercontent.com/a-/AOh14GgjKcbvwp5ZtrxfUHWPWheflKzS5OFifqEZnFQiCg=s64",
      "userId": "16530533802857954710"
     },
     "user_tz": -420
    },
    "id": "fvPe8nv2o2wc"
   },
   "outputs": [],
   "source": [
    "# ambil hanya pada brand samsung\n",
    "data = data.loc[data['Brand Name'] == 'Samsung', 'Brand Name':'Reviews']\n",
    "# ambil hanya 1000 data\n",
    "data = data.iloc[0:1000]\n",
    "# ambil hanya feature Reviews dan Rating\n",
    "data = data[['Reviews', 'Rating']]\n",
    "# hapus data mis\n",
    "data.dropna(inplace=True)"
   ]
  },
  {
   "cell_type": "code",
   "execution_count": 6,
   "metadata": {
    "colab": {
     "base_uri": "https://localhost:8080/",
     "height": 206
    },
    "executionInfo": {
     "elapsed": 39441,
     "status": "ok",
     "timestamp": 1610100453620,
     "user": {
      "displayName": "Deri Afrianda",
      "photoUrl": "https://lh3.googleusercontent.com/a-/AOh14GgjKcbvwp5ZtrxfUHWPWheflKzS5OFifqEZnFQiCg=s64",
      "userId": "16530533802857954710"
     },
     "user_tz": -420
    },
    "id": "ANO05fpkpQKu",
    "outputId": "def2814d-228f-452e-e844-8997de1659ed"
   },
   "outputs": [
    {
     "data": {
      "text/html": [
       "<div>\n",
       "<style scoped>\n",
       "    .dataframe tbody tr th:only-of-type {\n",
       "        vertical-align: middle;\n",
       "    }\n",
       "\n",
       "    .dataframe tbody tr th {\n",
       "        vertical-align: top;\n",
       "    }\n",
       "\n",
       "    .dataframe thead th {\n",
       "        text-align: right;\n",
       "    }\n",
       "</style>\n",
       "<table border=\"1\" class=\"dataframe\">\n",
       "  <thead>\n",
       "    <tr style=\"text-align: right;\">\n",
       "      <th></th>\n",
       "      <th>Reviews</th>\n",
       "      <th>Rating</th>\n",
       "    </tr>\n",
       "  </thead>\n",
       "  <tbody>\n",
       "    <tr>\n",
       "      <th>0</th>\n",
       "      <td>I feel so LUCKY to have found this used (phone...</td>\n",
       "      <td>5</td>\n",
       "    </tr>\n",
       "    <tr>\n",
       "      <th>1</th>\n",
       "      <td>nice phone, nice up grade from my pantach revu...</td>\n",
       "      <td>4</td>\n",
       "    </tr>\n",
       "    <tr>\n",
       "      <th>2</th>\n",
       "      <td>Very pleased</td>\n",
       "      <td>5</td>\n",
       "    </tr>\n",
       "    <tr>\n",
       "      <th>3</th>\n",
       "      <td>It works good but it goes slow sometimes but i...</td>\n",
       "      <td>4</td>\n",
       "    </tr>\n",
       "    <tr>\n",
       "      <th>4</th>\n",
       "      <td>Great phone to replace my lost phone. The only...</td>\n",
       "      <td>4</td>\n",
       "    </tr>\n",
       "  </tbody>\n",
       "</table>\n",
       "</div>"
      ],
      "text/plain": [
       "                                             Reviews  Rating\n",
       "0  I feel so LUCKY to have found this used (phone...       5\n",
       "1  nice phone, nice up grade from my pantach revu...       4\n",
       "2                                       Very pleased       5\n",
       "3  It works good but it goes slow sometimes but i...       4\n",
       "4  Great phone to replace my lost phone. The only...       4"
      ]
     },
     "execution_count": 6,
     "metadata": {
      "tags": []
     },
     "output_type": "execute_result"
    }
   ],
   "source": [
    "data.head()"
   ]
  },
  {
   "cell_type": "markdown",
   "metadata": {
    "id": "zDKUBzUIpsfy"
   },
   "source": [
    "## Preprocessing\n"
   ]
  },
  {
   "cell_type": "code",
   "execution_count": null,
   "metadata": {
    "colab": {
     "base_uri": "https://localhost:8080/",
     "height": 206
    },
    "executionInfo": {
     "elapsed": 1211,
     "status": "ok",
     "timestamp": 1609216203042,
     "user": {
      "displayName": "Deri Afrianda",
      "photoUrl": "https://lh3.googleusercontent.com/a-/AOh14GgjKcbvwp5ZtrxfUHWPWheflKzS5OFifqEZnFQiCg=s64",
      "userId": "16530533802857954710"
     },
     "user_tz": -420
    },
    "id": "EMEry8EZpvgz",
    "outputId": "11119afb-0bfa-4187-8117-0f9b897a18fe"
   },
   "outputs": [
    {
     "data": {
      "text/html": [
       "<div>\n",
       "<style scoped>\n",
       "    .dataframe tbody tr th:only-of-type {\n",
       "        vertical-align: middle;\n",
       "    }\n",
       "\n",
       "    .dataframe tbody tr th {\n",
       "        vertical-align: top;\n",
       "    }\n",
       "\n",
       "    .dataframe thead th {\n",
       "        text-align: right;\n",
       "    }\n",
       "</style>\n",
       "<table border=\"1\" class=\"dataframe\">\n",
       "  <thead>\n",
       "    <tr style=\"text-align: right;\">\n",
       "      <th></th>\n",
       "      <th>Reviews</th>\n",
       "      <th>Rating</th>\n",
       "      <th>Label</th>\n",
       "    </tr>\n",
       "  </thead>\n",
       "  <tbody>\n",
       "    <tr>\n",
       "      <th>0</th>\n",
       "      <td>I feel so LUCKY to have found this used (phone...</td>\n",
       "      <td>5</td>\n",
       "      <td>positif</td>\n",
       "    </tr>\n",
       "    <tr>\n",
       "      <th>1</th>\n",
       "      <td>nice phone, nice up grade from my pantach revu...</td>\n",
       "      <td>4</td>\n",
       "      <td>positif</td>\n",
       "    </tr>\n",
       "    <tr>\n",
       "      <th>2</th>\n",
       "      <td>Very pleased</td>\n",
       "      <td>5</td>\n",
       "      <td>positif</td>\n",
       "    </tr>\n",
       "    <tr>\n",
       "      <th>3</th>\n",
       "      <td>It works good but it goes slow sometimes but i...</td>\n",
       "      <td>4</td>\n",
       "      <td>positif</td>\n",
       "    </tr>\n",
       "    <tr>\n",
       "      <th>4</th>\n",
       "      <td>Great phone to replace my lost phone. The only...</td>\n",
       "      <td>4</td>\n",
       "      <td>positif</td>\n",
       "    </tr>\n",
       "  </tbody>\n",
       "</table>\n",
       "</div>"
      ],
      "text/plain": [
       "                                             Reviews  Rating    Label\n",
       "0  I feel so LUCKY to have found this used (phone...       5  positif\n",
       "1  nice phone, nice up grade from my pantach revu...       4  positif\n",
       "2                                       Very pleased       5  positif\n",
       "3  It works good but it goes slow sometimes but i...       4  positif\n",
       "4  Great phone to replace my lost phone. The only...       4  positif"
      ]
     },
     "execution_count": 22,
     "metadata": {
      "tags": []
     },
     "output_type": "execute_result"
    }
   ],
   "source": [
    "# melabelkan data menjadi 3 kategori\n",
    "def pelabelan(rate):\n",
    "  if rate < 3:\n",
    "    return 'negatif'\n",
    "  else:\n",
    "    return 'positif'\n",
    "\n",
    "data['Label'] = data['Rating'].apply(pelabelan)\n",
    "data.head()"
   ]
  },
  {
   "cell_type": "code",
   "execution_count": 8,
   "metadata": {
    "colab": {
     "base_uri": "https://localhost:8080/"
    },
    "executionInfo": {
     "elapsed": 2325,
     "status": "ok",
     "timestamp": 1610100469148,
     "user": {
      "displayName": "Deri Afrianda",
      "photoUrl": "https://lh3.googleusercontent.com/a-/AOh14GgjKcbvwp5ZtrxfUHWPWheflKzS5OFifqEZnFQiCg=s64",
      "userId": "16530533802857954710"
     },
     "user_tz": -420
    },
    "id": "fyXtJv1srmZx",
    "outputId": "8a1af6b0-b72a-4352-a148-53f48ac11986"
   },
   "outputs": [
    {
     "name": "stdout",
     "output_type": "stream",
     "text": [
      "[nltk_data] Downloading package stopwords to /root/nltk_data...\n",
      "[nltk_data]   Unzipping corpora/stopwords.zip.\n",
      "[nltk_data] Downloading package punkt to /root/nltk_data...\n",
      "[nltk_data]   Unzipping tokenizers/punkt.zip.\n",
      "[nltk_data] Downloading package wordnet to /root/nltk_data...\n",
      "[nltk_data]   Unzipping corpora/wordnet.zip.\n"
     ]
    },
    {
     "data": {
      "text/plain": [
       "True"
      ]
     },
     "execution_count": 8,
     "metadata": {
      "tags": []
     },
     "output_type": "execute_result"
    }
   ],
   "source": [
    "nltk.download('stopwords')\n",
    "nltk.download('punkt')\n",
    "nltk.download('wordnet')"
   ]
  },
  {
   "cell_type": "code",
   "execution_count": null,
   "metadata": {
    "colab": {
     "base_uri": "https://localhost:8080/",
     "height": 70
    },
    "executionInfo": {
     "elapsed": 1151,
     "status": "ok",
     "timestamp": 1609216239285,
     "user": {
      "displayName": "Deri Afrianda",
      "photoUrl": "https://lh3.googleusercontent.com/a-/AOh14GgjKcbvwp5ZtrxfUHWPWheflKzS5OFifqEZnFQiCg=s64",
      "userId": "16530533802857954710"
     },
     "user_tz": -420
    },
    "id": "-ctBwfolq5o6",
    "outputId": "337ba05f-57bf-4af4-be63-32085d19146a"
   },
   "outputs": [
    {
     "data": {
      "application/vnd.google.colaboratory.intrinsic+json": {
       "type": "string"
      },
      "text/plain": [
       "'nice phone, nice up grade from my pantach revue. Very clean set up and easy set up. never had an android phone but they are fantastic to say the least. perfect size for surfing and social media. great phone samsung'"
      ]
     },
     "execution_count": 24,
     "metadata": {
      "tags": []
     },
     "output_type": "execute_result"
    }
   ],
   "source": [
    "data['Reviews'][1]"
   ]
  },
  {
   "cell_type": "code",
   "execution_count": null,
   "metadata": {
    "id": "lzllmZD4qsRi"
   },
   "outputs": [],
   "source": [
    "lemma = WordNetLemmatizer()\n",
    "stemmer = PorterStemmer()\n",
    "stop_words = set(stopwords.words('english'))\n",
    "\n",
    "def CleanReview(txt):\n",
    "  txt = re.sub(r'http\\S+', ' ', txt)                                                 # hapus url\n",
    "  txt = re.sub('[^a-zA-Z]','  ', txt)                                                 # hapus teks tidak relevan (karakter selain a-z)\n",
    "  txt = str(txt).lower()                                                                # jadikan huruf kecil semua\n",
    "  txt = word_tokenize(txt)                                                         # tokenize\n",
    "  txt = [item for item in txt if item not in stop_words]           # hapus stop words ('saya' 'aku' 'kamu' dll)\n",
    "  # txt = [stemmer.stem(i) for i in txt]                                         # stemming : pemotongan akhir kata\n",
    "  txt = [lemma.lemmatize(word=w,pos='v') for w in txt]        # lemmatization : mengembalikan ke bentuk dasar kata\n",
    "  txt = [i for i in txt if len(i) > 2]                                                # hapus kata yang kurang dari dua huruf/karakter\n",
    "  txt = ' '.join(txt)                                                                        # penggabungan setiap token menjadi kalimat utuh\n",
    "  return txt\n",
    "\n",
    "data['CleanReview'] = data['Reviews'].apply(CleanReview)"
   ]
  },
  {
   "cell_type": "code",
   "execution_count": null,
   "metadata": {
    "colab": {
     "base_uri": "https://localhost:8080/",
     "height": 206
    },
    "executionInfo": {
     "elapsed": 1165,
     "status": "ok",
     "timestamp": 1609216380913,
     "user": {
      "displayName": "Deri Afrianda",
      "photoUrl": "https://lh3.googleusercontent.com/a-/AOh14GgjKcbvwp5ZtrxfUHWPWheflKzS5OFifqEZnFQiCg=s64",
      "userId": "16530533802857954710"
     },
     "user_tz": -420
    },
    "id": "Oc7Nd5FEsSFx",
    "outputId": "8e6450ec-0088-4990-b661-d31c7aa6a1e1"
   },
   "outputs": [
    {
     "data": {
      "text/html": [
       "<div>\n",
       "<style scoped>\n",
       "    .dataframe tbody tr th:only-of-type {\n",
       "        vertical-align: middle;\n",
       "    }\n",
       "\n",
       "    .dataframe tbody tr th {\n",
       "        vertical-align: top;\n",
       "    }\n",
       "\n",
       "    .dataframe thead th {\n",
       "        text-align: right;\n",
       "    }\n",
       "</style>\n",
       "<table border=\"1\" class=\"dataframe\">\n",
       "  <thead>\n",
       "    <tr style=\"text-align: right;\">\n",
       "      <th></th>\n",
       "      <th>Reviews</th>\n",
       "      <th>Rating</th>\n",
       "      <th>Label</th>\n",
       "      <th>CleanReview</th>\n",
       "    </tr>\n",
       "  </thead>\n",
       "  <tbody>\n",
       "    <tr>\n",
       "      <th>0</th>\n",
       "      <td>I feel so LUCKY to have found this used (phone...</td>\n",
       "      <td>5</td>\n",
       "      <td>positif</td>\n",
       "      <td>feel lucky find use phone use hard phone line ...</td>\n",
       "    </tr>\n",
       "    <tr>\n",
       "      <th>1</th>\n",
       "      <td>nice phone, nice up grade from my pantach revu...</td>\n",
       "      <td>4</td>\n",
       "      <td>positif</td>\n",
       "      <td>nice phone nice grade pantach revue clean set ...</td>\n",
       "    </tr>\n",
       "    <tr>\n",
       "      <th>2</th>\n",
       "      <td>Very pleased</td>\n",
       "      <td>5</td>\n",
       "      <td>positif</td>\n",
       "      <td>please</td>\n",
       "    </tr>\n",
       "    <tr>\n",
       "      <th>3</th>\n",
       "      <td>It works good but it goes slow sometimes but i...</td>\n",
       "      <td>4</td>\n",
       "      <td>positif</td>\n",
       "      <td>work good slow sometimes good phone love</td>\n",
       "    </tr>\n",
       "    <tr>\n",
       "      <th>4</th>\n",
       "      <td>Great phone to replace my lost phone. The only...</td>\n",
       "      <td>4</td>\n",
       "      <td>positif</td>\n",
       "      <td>great phone replace lose phone thing volume bu...</td>\n",
       "    </tr>\n",
       "  </tbody>\n",
       "</table>\n",
       "</div>"
      ],
      "text/plain": [
       "                                             Reviews  ...                                        CleanReview\n",
       "0  I feel so LUCKY to have found this used (phone...  ...  feel lucky find use phone use hard phone line ...\n",
       "1  nice phone, nice up grade from my pantach revu...  ...  nice phone nice grade pantach revue clean set ...\n",
       "2                                       Very pleased  ...                                             please\n",
       "3  It works good but it goes slow sometimes but i...  ...           work good slow sometimes good phone love\n",
       "4  Great phone to replace my lost phone. The only...  ...  great phone replace lose phone thing volume bu...\n",
       "\n",
       "[5 rows x 4 columns]"
      ]
     },
     "execution_count": 26,
     "metadata": {
      "tags": []
     },
     "output_type": "execute_result"
    }
   ],
   "source": [
    "data.head()"
   ]
  },
  {
   "cell_type": "markdown",
   "metadata": {
    "id": "M2Z4R_q2sWP3"
   },
   "source": [
    "## Perform SVM"
   ]
  },
  {
   "cell_type": "code",
   "execution_count": null,
   "metadata": {
    "id": "1ODlHwpBsa84"
   },
   "outputs": [],
   "source": [
    "# split x dan y\n",
    "x = data['CleanReview']\n",
    "y = data['Label']\n",
    "x_train, x_test, y_train, y_test = train_test_split(x, y, test_size=0.2)"
   ]
  },
  {
   "cell_type": "code",
   "execution_count": null,
   "metadata": {
    "colab": {
     "base_uri": "https://localhost:8080/"
    },
    "executionInfo": {
     "elapsed": 1212,
     "status": "ok",
     "timestamp": 1609216625945,
     "user": {
      "displayName": "Deri Afrianda",
      "photoUrl": "https://lh3.googleusercontent.com/a-/AOh14GgjKcbvwp5ZtrxfUHWPWheflKzS5OFifqEZnFQiCg=s64",
      "userId": "16530533802857954710"
     },
     "user_tz": -420
    },
    "id": "Rdxy-I1Jxtzw",
    "outputId": "837b6d8a-7ae5-47b5-f791-773e2a7628bb"
   },
   "outputs": [
    {
     "data": {
      "text/plain": [
       "183409    irresponsible send another article one want reach\n",
       "183310            good phone expect work well straight talk\n",
       "182838    wonderful phone far best phone ever load crap ...\n",
       "184772    great phone large display size screen however ...\n",
       "183421                    complain much mean happy purchase\n",
       "                                ...                        \n",
       "183447    time get make call laeft thatbut right even ye...\n",
       "182826                           would buy phone total junk\n",
       "184870    samsung galaxy ace phone look cover like bigge...\n",
       "183159    far good wife phone trouble picture videos als...\n",
       "183331    specifically buy version galaxy rather newer c...\n",
       "Name: CleanReview, Length: 799, dtype: object"
      ]
     },
     "execution_count": 37,
     "metadata": {
      "tags": []
     },
     "output_type": "execute_result"
    }
   ],
   "source": [
    "x_train"
   ]
  },
  {
   "cell_type": "code",
   "execution_count": null,
   "metadata": {
    "colab": {
     "base_uri": "https://localhost:8080/"
    },
    "executionInfo": {
     "elapsed": 1178,
     "status": "ok",
     "timestamp": 1609216653547,
     "user": {
      "displayName": "Deri Afrianda",
      "photoUrl": "https://lh3.googleusercontent.com/a-/AOh14GgjKcbvwp5ZtrxfUHWPWheflKzS5OFifqEZnFQiCg=s64",
      "userId": "16530533802857954710"
     },
     "user_tz": -420
    },
    "id": "7wdDxjTetZsg",
    "outputId": "015dc765-170c-44d0-8355-efc66b098f31"
   },
   "outputs": [
    {
     "data": {
      "text/plain": [
       "CountVectorizer(analyzer='word', binary=False, decode_error='strict',\n",
       "                dtype=<class 'numpy.int64'>, encoding='utf-8', input='content',\n",
       "                lowercase=True, max_df=1.0, max_features=None, min_df=1,\n",
       "                ngram_range=(1, 1), preprocessor=None, stop_words=None,\n",
       "                strip_accents=None, token_pattern='(?u)\\\\b\\\\w\\\\w+\\\\b',\n",
       "                tokenizer=None, vocabulary=None)"
      ]
     },
     "execution_count": 38,
     "metadata": {
      "tags": []
     },
     "output_type": "execute_result"
    }
   ],
   "source": [
    "# perform count vectorizer\n",
    "vectorizer = CountVectorizer()\n",
    "vectorizer.fit(x_train)"
   ]
  },
  {
   "cell_type": "code",
   "execution_count": null,
   "metadata": {
    "id": "OY-AhSMdtu7S"
   },
   "outputs": [],
   "source": [
    "# x_train\n",
    "x_train = vectorizer.transform(x_train)\n",
    "x_test = vectorizer.transform(x_test)"
   ]
  },
  {
   "cell_type": "code",
   "execution_count": null,
   "metadata": {
    "colab": {
     "base_uri": "https://localhost:8080/"
    },
    "executionInfo": {
     "elapsed": 1549,
     "status": "ok",
     "timestamp": 1609216660501,
     "user": {
      "displayName": "Deri Afrianda",
      "photoUrl": "https://lh3.googleusercontent.com/a-/AOh14GgjKcbvwp5ZtrxfUHWPWheflKzS5OFifqEZnFQiCg=s64",
      "userId": "16530533802857954710"
     },
     "user_tz": -420
    },
    "id": "a4SC0OENx_Tp",
    "outputId": "9076a41b-b2ab-4b70-d4c4-b6b05e076b6a"
   },
   "outputs": [
    {
     "data": {
      "text/plain": [
       "array([[0, 0, 0, ..., 0, 0, 0],\n",
       "       [0, 0, 0, ..., 0, 0, 0],\n",
       "       [0, 1, 1, ..., 0, 0, 0],\n",
       "       ...,\n",
       "       [0, 0, 0, ..., 0, 0, 0],\n",
       "       [0, 0, 0, ..., 0, 0, 0],\n",
       "       [0, 0, 1, ..., 0, 0, 0]])"
      ]
     },
     "execution_count": 40,
     "metadata": {
      "tags": []
     },
     "output_type": "execute_result"
    }
   ],
   "source": [
    "x_train.toarray()"
   ]
  },
  {
   "cell_type": "code",
   "execution_count": null,
   "metadata": {
    "colab": {
     "base_uri": "https://localhost:8080/"
    },
    "executionInfo": {
     "elapsed": 1681,
     "status": "ok",
     "timestamp": 1609216688081,
     "user": {
      "displayName": "Deri Afrianda",
      "photoUrl": "https://lh3.googleusercontent.com/a-/AOh14GgjKcbvwp5ZtrxfUHWPWheflKzS5OFifqEZnFQiCg=s64",
      "userId": "16530533802857954710"
     },
     "user_tz": -420
    },
    "id": "OkfTrMcrvhp6",
    "outputId": "470790a3-4e46-45c1-9d6b-49d0d88a1968"
   },
   "outputs": [
    {
     "name": "stdout",
     "output_type": "stream",
     "text": [
      "Akurasi untuk c = 0.01: 0.865\n",
      "Akurasi untuk c = 0.05: 0.87\n",
      "Akurasi untuk c = 0.25: 0.865\n",
      "Akurasi untuk c = 0.5: 0.86\n",
      "Akurasi untuk c = 0.75: 0.86\n",
      "Akurasi untuk c = 1: 0.865\n"
     ]
    }
   ],
   "source": [
    "for c in [0.01, 0.05, 0.25, 0.5, 0.75,  1]:\n",
    "  svm = LinearSVC(C=c)\n",
    "  svm.fit(x_train, y_train)\n",
    "  print('Akurasi untuk c = %s: %s' %(c, accuracy_score(y_test, svm.predict(x_test))))\n"
   ]
  },
  {
   "cell_type": "code",
   "execution_count": null,
   "metadata": {
    "colab": {
     "base_uri": "https://localhost:8080/"
    },
    "executionInfo": {
     "elapsed": 1174,
     "status": "ok",
     "timestamp": 1609216720683,
     "user": {
      "displayName": "Deri Afrianda",
      "photoUrl": "https://lh3.googleusercontent.com/a-/AOh14GgjKcbvwp5ZtrxfUHWPWheflKzS5OFifqEZnFQiCg=s64",
      "userId": "16530533802857954710"
     },
     "user_tz": -420
    },
    "id": "8ItF-WLMxTMD",
    "outputId": "ac00ea12-7d82-4b9b-987b-cefeb4b7c71d"
   },
   "outputs": [
    {
     "data": {
      "text/plain": [
       "LinearSVC(C=0.05, class_weight=None, dual=True, fit_intercept=True,\n",
       "          intercept_scaling=1, loss='squared_hinge', max_iter=1000,\n",
       "          multi_class='ovr', penalty='l2', random_state=None, tol=0.0001,\n",
       "          verbose=0)"
      ]
     },
     "execution_count": 42,
     "metadata": {
      "tags": []
     },
     "output_type": "execute_result"
    }
   ],
   "source": [
    "svm = LinearSVC(C = 0.05)\n",
    "svm.fit(x_train, y_train)"
   ]
  },
  {
   "cell_type": "code",
   "execution_count": null,
   "metadata": {
    "colab": {
     "base_uri": "https://localhost:8080/"
    },
    "executionInfo": {
     "elapsed": 1260,
     "status": "ok",
     "timestamp": 1609216742214,
     "user": {
      "displayName": "Deri Afrianda",
      "photoUrl": "https://lh3.googleusercontent.com/a-/AOh14GgjKcbvwp5ZtrxfUHWPWheflKzS5OFifqEZnFQiCg=s64",
      "userId": "16530533802857954710"
     },
     "user_tz": -420
    },
    "id": "ePolLTOtyael",
    "outputId": "6878026b-7caf-43fc-8a7a-6a06068f80cc"
   },
   "outputs": [
    {
     "name": "stdout",
     "output_type": "stream",
     "text": [
      "Accuracy score model final: 0.87 \n"
     ]
    }
   ],
   "source": [
    "print('Accuracy score model final: %s ' %accuracy_score(y_test, svm.predict(x_test)))"
   ]
  },
  {
   "cell_type": "markdown",
   "metadata": {
    "id": "vlfXxNbfyiSE"
   },
   "source": [
    "## Evaluasi Model"
   ]
  },
  {
   "cell_type": "code",
   "execution_count": null,
   "metadata": {
    "colab": {
     "base_uri": "https://localhost:8080/"
    },
    "executionInfo": {
     "elapsed": 1215,
     "status": "ok",
     "timestamp": 1609216766945,
     "user": {
      "displayName": "Deri Afrianda",
      "photoUrl": "https://lh3.googleusercontent.com/a-/AOh14GgjKcbvwp5ZtrxfUHWPWheflKzS5OFifqEZnFQiCg=s64",
      "userId": "16530533802857954710"
     },
     "user_tz": -420
    },
    "id": "pl_NyNDByvUk",
    "outputId": "6f918b0e-6038-4bd6-bb0c-31965421eb20"
   },
   "outputs": [
    {
     "name": "stdout",
     "output_type": "stream",
     "text": [
      "Accuracy of SVM classifier on test set: 0.87\n",
      "[[ 13  17]\n",
      " [  9 161]]\n",
      "              precision    recall  f1-score   support\n",
      "\n",
      "     negatif       0.59      0.43      0.50        30\n",
      "     positif       0.90      0.95      0.93       170\n",
      "\n",
      "    accuracy                           0.87       200\n",
      "   macro avg       0.75      0.69      0.71       200\n",
      "weighted avg       0.86      0.87      0.86       200\n",
      "\n"
     ]
    }
   ],
   "source": [
    "y_pred = svm.predict(x_test)\n",
    "print('Accuracy of SVM classifier on test set: {:.2f}'.format(svm.score(x_test, y_test)))\n",
    "\n",
    "confusion_matrix = confusion_matrix(y_test, y_pred)\n",
    "print(confusion_matrix)\n",
    "print(classification_report(y_test, y_pred))"
   ]
  }
 ],
 "metadata": {
  "colab": {
   "collapsed_sections": [
    "vm7UMJ6Gnzaa",
    "zDKUBzUIpsfy"
   ],
   "name": "svm.ipynb",
   "provenance": [],
   "toc_visible": true
  },
  "kernelspec": {
   "display_name": "Python 3",
   "language": "python",
   "name": "python3"
  },
  "language_info": {
   "codemirror_mode": {
    "name": "ipython",
    "version": 3
   },
   "file_extension": ".py",
   "mimetype": "text/x-python",
   "name": "python",
   "nbconvert_exporter": "python",
   "pygments_lexer": "ipython3",
   "version": "3.9.1"
  }
 },
 "nbformat": 4,
 "nbformat_minor": 1
}
